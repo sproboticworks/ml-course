{
  "nbformat": 4,
  "nbformat_minor": 0,
  "metadata": {
    "colab": {
      "name": "Cats and Dogs Classification using Transfer Learning.ipynb",
      "provenance": [],
      "authorship_tag": "ABX9TyNlykseZ84qO10zlByTKCfH",
      "include_colab_link": true
    },
    "kernelspec": {
      "name": "python3",
      "display_name": "Python 3"
    },
    "accelerator": "GPU"
  },
  "cells": [
    {
      "cell_type": "markdown",
      "metadata": {
        "id": "view-in-github",
        "colab_type": "text"
      },
      "source": [
        "<a href=\"https://colab.research.google.com/github/sproboticworks/ml-course/blob/master/Cats%20and%20Dogs%20Classification%20using%20Transfer%20Learning.ipynb\" target=\"_parent\"><img src=\"https://colab.research.google.com/assets/colab-badge.svg\" alt=\"Open In Colab\"/></a>"
      ]
    },
    {
      "cell_type": "markdown",
      "metadata": {
        "id": "iMoDcbhN1L77",
        "colab_type": "text"
      },
      "source": [
        "# Import Packages"
      ]
    },
    {
      "cell_type": "code",
      "metadata": {
        "id": "dvQhe1BL086n",
        "colab_type": "code",
        "colab": {}
      },
      "source": [
        "import tensorflow as tf\n",
        "import numpy as np\n",
        "import matplotlib.pyplot as plt\n",
        "import os\n",
        "from tensorflow.keras import layers\n"
      ],
      "execution_count": 0,
      "outputs": []
    },
    {
      "cell_type": "markdown",
      "metadata": {
        "id": "oMlB_joD1tC8",
        "colab_type": "text"
      },
      "source": [
        "#Download Data"
      ]
    },
    {
      "cell_type": "code",
      "metadata": {
        "id": "xFkYHjNs1r5D",
        "colab_type": "code",
        "colab": {}
      },
      "source": [
        "url = 'https://storage.googleapis.com/mledu-datasets/cats_and_dogs_filtered.zip'\n",
        "zip_dir = tf.keras.utils.get_file('cats_and_dogs_filtered.zip', origin=url, extract=True)"
      ],
      "execution_count": 0,
      "outputs": []
    },
    {
      "cell_type": "code",
      "metadata": {
        "id": "cPhuXFha10Bq",
        "colab_type": "code",
        "colab": {}
      },
      "source": [
        "base_dir = os.path.join(os.path.dirname(zip_dir), 'cats_and_dogs_filtered')\n",
        "\n",
        "train_dir = os.path.join(base_dir, 'train')\n",
        "validation_dir = os.path.join(base_dir, 'validation')\n",
        "\n",
        "# Directory with our training cat/dog pictures\n",
        "train_cats_dir = os.path.join(train_dir, 'cats')\n",
        "train_dogs_dir = os.path.join(train_dir, 'dogs')\n",
        "\n",
        "# Directory with our validation cat/dog pictures\n",
        "validation_cats_dir = os.path.join(validation_dir, 'cats')\n",
        "validation_dogs_dir = os.path.join(validation_dir, 'dogs')\n",
        "\n",
        "num_cats_tr = len(os.listdir(train_cats_dir))\n",
        "num_dogs_tr = len(os.listdir(train_dogs_dir))\n",
        "\n",
        "num_cats_val = len(os.listdir(validation_cats_dir))\n",
        "num_dogs_val = len(os.listdir(validation_dogs_dir))\n",
        "\n",
        "total_train = num_cats_tr + num_dogs_tr\n",
        "total_val = num_cats_val + num_dogs_val"
      ],
      "execution_count": 0,
      "outputs": []
    },
    {
      "cell_type": "markdown",
      "metadata": {
        "id": "a5clSrc51_u7",
        "colab_type": "text"
      },
      "source": [
        "# Preprocess Data"
      ]
    },
    {
      "cell_type": "code",
      "metadata": {
        "id": "OqnqVo0D1_Vi",
        "colab_type": "code",
        "colab": {}
      },
      "source": [
        "BATCH_SIZE = 20\n",
        "IMG_SHAPE = 224\n",
        "from tensorflow.keras.preprocessing.image import ImageDataGenerator\n",
        "\n",
        "# All images will be rescaled by 1./255.\n",
        "train_datagen = ImageDataGenerator( rescale = 1.0/255. )\n",
        "validation_datagen  = ImageDataGenerator( rescale = 1.0/255. )\n",
        "\n",
        "# --------------------\n",
        "# Flow training images in batches of 20 using train_datagen generator\n",
        "# --------------------\n",
        "train_generator = train_datagen.flow_from_directory(train_dir,\n",
        "                                                    batch_size=BATCH_SIZE,\n",
        "                                                    class_mode='binary',\n",
        "                                                    target_size=(IMG_SHAPE, IMG_SHAPE))\n",
        "     \n",
        "# --------------------\n",
        "# Flow validation images in batches of 20 using test_datagen generator\n",
        "# --------------------\n",
        "validation_generator =  validation_datagen.flow_from_directory(validation_dir,\n",
        "                                                         batch_size=BATCH_SIZE,\n",
        "                                                         class_mode  = 'binary',\n",
        "                                                         target_size = (IMG_SHAPE, IMG_SHAPE))"
      ],
      "execution_count": 0,
      "outputs": []
    },
    {
      "cell_type": "markdown",
      "metadata": {
        "id": "Lq5MEYT71Ywq",
        "colab_type": "text"
      },
      "source": [
        "# Load Pre-trained model"
      ]
    },
    {
      "cell_type": "code",
      "metadata": {
        "id": "H4LUymPL1YNb",
        "colab_type": "code",
        "colab": {}
      },
      "source": [
        "import tensorflow_hub as hub\n",
        "\n",
        "CLASSIFIER_URL =\"https://tfhub.dev/google/tf2-preview/mobilenet_v2/classification/4\"\n",
        "IMAGE_RES = 224\n",
        "\n",
        "feature_extractor = hub.KerasLayer(CLASSIFIER_URL, input_shape=(IMAGE_RES, IMAGE_RES,3))\n",
        "feature_extractor.trainable = False"
      ],
      "execution_count": 0,
      "outputs": []
    },
    {
      "cell_type": "code",
      "metadata": {
        "id": "2ctRyrc41hol",
        "colab_type": "code",
        "colab": {}
      },
      "source": [
        "model = tf.keras.Sequential([\n",
        "    feature_extractor,\n",
        "    tf.keras.layers.Dense(1, activation='sigmoid')\n",
        "])"
      ],
      "execution_count": 0,
      "outputs": []
    },
    {
      "cell_type": "markdown",
      "metadata": {
        "id": "QzMIwWo32G4n",
        "colab_type": "text"
      },
      "source": [
        "# Train Model"
      ]
    },
    {
      "cell_type": "code",
      "metadata": {
        "id": "Lw7JKqqO1lJ8",
        "colab_type": "code",
        "colab": {}
      },
      "source": [
        "from tensorflow.keras.optimizers import RMSprop\n",
        "\n",
        "model.compile(optimizer=RMSprop(lr=0.001),\n",
        "              loss='binary_crossentropy',\n",
        "              metrics = ['accuracy'])"
      ],
      "execution_count": 0,
      "outputs": []
    },
    {
      "cell_type": "code",
      "metadata": {
        "id": "Ar20Ha_L2FQi",
        "colab_type": "code",
        "colab": {}
      },
      "source": [
        "EPOCHS = 5\n",
        "history = model.fit(train_generator,\n",
        "                              validation_data=validation_generator,\n",
        "                              steps_per_epoch=int(np.ceil(total_train / float(BATCH_SIZE))),\n",
        "                              epochs=EPOCHS,\n",
        "                              validation_steps=int(np.ceil(total_val / float(BATCH_SIZE))))"
      ],
      "execution_count": 0,
      "outputs": []
    },
    {
      "cell_type": "markdown",
      "metadata": {
        "id": "P1FBrfiLHwTt",
        "colab_type": "text"
      },
      "source": [
        "# Prediction using the model"
      ]
    },
    {
      "cell_type": "code",
      "metadata": {
        "id": "MKwZZUltHyuc",
        "colab_type": "code",
        "colab": {}
      },
      "source": [
        "test_images, test_labels = next(validation_generator)\n",
        "classes = model.predict(test_images, 10)\n",
        "classes = classes.flatten()\n",
        "fig, axes = plt.subplots(4, 5, figsize=(10,10))\n",
        "axes = axes.flatten()\n",
        "i = 0\n",
        "for img, ax in zip(test_images, axes):\n",
        "    ax.imshow(img)\n",
        "    ax.axis('off')\n",
        "    color = 'blue'\n",
        "    if round(classes[i]) != test_labels[i] :\n",
        "        color = 'red'\n",
        "    if classes[i]>0.5:\n",
        "        ax.set_title(\"Dog\",fontdict = {'size' : 20, 'color' : color});\n",
        "    else :\n",
        "        ax.set_title(\"Cat\",fontdict = {'size' : 20, 'color' : color});\n",
        "    i+=1\n",
        "plt.tight_layout()\n",
        "plt.show()"
      ],
      "execution_count": 0,
      "outputs": []
    },
    {
      "cell_type": "markdown",
      "metadata": {
        "id": "A_lRM3xtmsXa",
        "colab_type": "text"
      },
      "source": [
        "# Save as Keras .h5 model"
      ]
    },
    {
      "cell_type": "code",
      "metadata": {
        "id": "SKpk-R5Zmz6z",
        "colab_type": "code",
        "colab": {}
      },
      "source": [
        "import time\n",
        "t = time.time()\n",
        "\n",
        "export_path_keras = \"./{}.h5\".format(int(t))\n",
        "print(export_path_keras)\n",
        "model.save(export_path_keras)"
      ],
      "execution_count": 0,
      "outputs": []
    },
    {
      "cell_type": "markdown",
      "metadata": {
        "id": "SmTVYrIOp4Q3",
        "colab_type": "text"
      },
      "source": [
        "# Load the Keras .h5 Model"
      ]
    },
    {
      "cell_type": "code",
      "metadata": {
        "id": "ZsRs5OCcp7mT",
        "colab_type": "code",
        "colab": {}
      },
      "source": [
        "reloaded = tf.keras.models.load_model(\n",
        "  export_path_keras, \n",
        "  # `custom_objects` tells keras how to load a `hub.KerasLayer`\n",
        "  custom_objects={'KerasLayer': hub.KerasLayer})\n",
        "\n",
        "reloaded.summary()"
      ],
      "execution_count": 0,
      "outputs": []
    },
    {
      "cell_type": "code",
      "metadata": {
        "id": "1pDOQIXwqGtC",
        "colab_type": "code",
        "colab": {}
      },
      "source": [
        "result_batch = model.predict(test_images)\n",
        "reloaded_result_batch = reloaded.predict(test_images)\n",
        "(abs(result_batch - reloaded_result_batch)).max()"
      ],
      "execution_count": 0,
      "outputs": []
    },
    {
      "cell_type": "markdown",
      "metadata": {
        "id": "oE_RCatbsCwb",
        "colab_type": "text"
      },
      "source": [
        "## Keep Training"
      ]
    },
    {
      "cell_type": "code",
      "metadata": {
        "id": "FwKGfYROsAvW",
        "colab_type": "code",
        "colab": {}
      },
      "source": [
        "EPOCHS = 3\n",
        "history = reloaded.fit(train_generator,\n",
        "                    epochs=EPOCHS,\n",
        "                    validation_data=validation_generator)"
      ],
      "execution_count": 0,
      "outputs": []
    },
    {
      "cell_type": "markdown",
      "metadata": {
        "id": "AIf_ZQxFs1qE",
        "colab_type": "text"
      },
      "source": [
        "# Export as SavedModel"
      ]
    },
    {
      "cell_type": "code",
      "metadata": {
        "id": "TBedhARxs1B9",
        "colab_type": "code",
        "colab": {}
      },
      "source": [
        "t = time.time()\n",
        "\n",
        "export_path_sm = \"./{}\".format(int(t))\n",
        "print(export_path_sm)\n",
        "\n",
        "tf.saved_model.save(model, export_path_sm)"
      ],
      "execution_count": 0,
      "outputs": []
    },
    {
      "cell_type": "markdown",
      "metadata": {
        "id": "XKcE0-Iqs8xL",
        "colab_type": "text"
      },
      "source": [
        "# Load SavedModel"
      ]
    },
    {
      "cell_type": "code",
      "metadata": {
        "id": "JP6zILIPtGB3",
        "colab_type": "code",
        "colab": {}
      },
      "source": [
        "reloaded_sm = tf.saved_model.load(export_path_sm)\n",
        "reload_sm_result_batch = reloaded_sm(test_images, training=False).numpy()\n",
        "(abs(result_batch - reload_sm_result_batch)).max()"
      ],
      "execution_count": 0,
      "outputs": []
    },
    {
      "cell_type": "markdown",
      "metadata": {
        "id": "8fQfa4zytXl8",
        "colab_type": "text"
      },
      "source": [
        "# Loading the SavedModel as a Keras Model"
      ]
    },
    {
      "cell_type": "code",
      "metadata": {
        "id": "beuIgnh-tH86",
        "colab_type": "code",
        "colab": {}
      },
      "source": [
        "t = time.time()\n",
        "\n",
        "export_path_sm = \"./{}\".format(int(t))\n",
        "print(export_path_sm)\n",
        "tf.saved_model.save(model, export_path_sm)"
      ],
      "execution_count": 0,
      "outputs": []
    },
    {
      "cell_type": "code",
      "metadata": {
        "id": "YcvOGb4StvTW",
        "colab_type": "code",
        "colab": {}
      },
      "source": [
        "reload_sm_keras = tf.keras.models.load_model(\n",
        "  export_path_sm,\n",
        "  custom_objects={'KerasLayer': hub.KerasLayer})\n",
        "\n",
        "reload_sm_keras.summary()"
      ],
      "execution_count": 0,
      "outputs": []
    },
    {
      "cell_type": "code",
      "metadata": {
        "id": "82cjCkZ9twq4",
        "colab_type": "code",
        "colab": {}
      },
      "source": [
        "result_batch = model.predict(test_images)\n",
        "reload_sm_keras_result_batch = reload_sm_keras.predict(test_images)"
      ],
      "execution_count": 0,
      "outputs": []
    },
    {
      "cell_type": "code",
      "metadata": {
        "id": "ThoYrSOctx-n",
        "colab_type": "code",
        "colab": {}
      },
      "source": [
        "(abs(result_batch - reload_sm_keras_result_batch)).max()"
      ],
      "execution_count": 0,
      "outputs": []
    }
  ]
}